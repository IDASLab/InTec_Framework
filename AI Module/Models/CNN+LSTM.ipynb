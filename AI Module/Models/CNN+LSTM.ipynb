{
 "cells": [
  {
   "attachments": {},
   "cell_type": "markdown",
   "metadata": {
    "papermill": {
     "duration": 0.015851,
     "end_time": "2023-04-03T16:39:07.402884",
     "exception": false,
     "start_time": "2023-04-03T16:39:07.387033",
     "status": "completed"
    },
    "tags": []
   },
   "source": [
    "### This file includes following configs(Model - Dimensionality reduction - Outlier detection):\n",
    "- LSTM - PCA - Local Outlier\n",
    "- LSTM - PCA - IsolationForest\n",
    "- LSTM - AE - Local Outlier\n",
    "- LSTM - AE - IsolationForest"
   ]
  },
  {
   "attachments": {},
   "cell_type": "markdown",
   "metadata": {
    "papermill": {
     "duration": 0.013968,
     "end_time": "2023-04-03T16:39:07.431369",
     "exception": false,
     "start_time": "2023-04-03T16:39:07.417401",
     "status": "completed"
    },
    "tags": []
   },
   "source": [
    "# Importing and preparing data"
   ]
  },
  {
   "cell_type": "code",
   "execution_count": 2,
   "metadata": {
    "execution": {
     "iopub.execute_input": "2023-04-03T16:39:07.466404Z",
     "iopub.status.busy": "2023-04-03T16:39:07.465708Z",
     "iopub.status.idle": "2023-04-03T16:39:12.885645Z",
     "shell.execute_reply": "2023-04-03T16:39:12.885018Z",
     "shell.execute_reply.started": "2023-04-03T16:18:46.341831Z"
    },
    "id": "EfhAZz8InlBr",
    "papermill": {
     "duration": 5.439829,
     "end_time": "2023-04-03T16:39:12.885868",
     "exception": false,
     "start_time": "2023-04-03T16:39:07.446039",
     "status": "completed"
    },
    "tags": []
   },
   "outputs": [
    {
     "name": "stderr",
     "output_type": "stream",
     "text": [
      "c:\\Users\\AssAssiN\\Desktop\\Work\\9. Developing\\AI Models\\prototype\\apatura\\lib\\site-packages\\dask\\dataframe\\utils.py:14: FutureWarning: pandas.util.testing is deprecated. Use the functions in the public API at pandas.testing instead.\n",
      "  import pandas.util.testing as tm\n"
     ]
    }
   ],
   "source": [
    "import numpy as np\n",
    "import pandas as pd\n",
    "import seaborn as sns\n",
    "import matplotlib.pyplot as plt\n",
    "import tensorflow as tf\n",
    "from keras import layers\n",
    "import keras\n",
    "\n",
    "from sklearn.decomposition import PCA\n",
    "from sklearn.preprocessing import StandardScaler\n",
    "\n",
    "from sklearn.ensemble import IsolationForest\n",
    "from sklearn.neighbors import LocalOutlierFactor\n",
    "\n",
    "from utils.load_data import custome_read_data\n",
    "from joblib import dump, load\n",
    "\n",
    "%matplotlib inline\n",
    "tf.random.set_seed(42)"
   ]
  },
  {
   "cell_type": "markdown",
   "metadata": {},
   "source": []
  },
  {
   "attachments": {},
   "cell_type": "markdown",
   "metadata": {},
   "source": [
    "## Loading data"
   ]
  },
  {
   "cell_type": "code",
   "execution_count": 4,
   "metadata": {
    "execution": {
     "iopub.execute_input": "2023-04-03T16:39:12.931779Z",
     "iopub.status.busy": "2023-04-03T16:39:12.931181Z",
     "iopub.status.idle": "2023-04-03T16:39:16.774115Z",
     "shell.execute_reply": "2023-04-03T16:39:16.774884Z",
     "shell.execute_reply.started": "2023-04-03T16:18:48.443530Z"
    },
    "papermill": {
     "duration": 3.874553,
     "end_time": "2023-04-03T16:39:16.775056",
     "exception": false,
     "start_time": "2023-04-03T16:39:12.900503",
     "status": "completed"
    },
    "tags": []
   },
   "outputs": [],
   "source": [
    "#fitted_scaler, fitted_outlier, fitted_pca, X_train_pca, y_train, X_test_pca, y_test = custome_read_data()\n",
    "#fitted_scaler, fitted_outlier, X_train, y_train, X_test, y_test = custome_read_data()\n",
    "X_train, y_train, X_test, y_test = custome_read_data(just_load=True)"
   ]
  },
  {
   "cell_type": "code",
   "execution_count": 5,
   "metadata": {},
   "outputs": [
    {
     "data": {
      "text/plain": [
       "(373915, 23)"
      ]
     },
     "execution_count": 5,
     "metadata": {},
     "output_type": "execute_result"
    }
   ],
   "source": [
    "X_train.shape"
   ]
  },
  {
   "cell_type": "code",
   "execution_count": 6,
   "metadata": {},
   "outputs": [],
   "source": [
    "X_train_pca = X_train\n",
    "X_test_pca = X_test"
   ]
  },
  {
   "cell_type": "code",
   "execution_count": 7,
   "metadata": {},
   "outputs": [],
   "source": [
    "#encoder_file = \"Final results and models/encoder_7.h5\"\n",
    "#encoder = tf.keras.models.load_model(encoder_file)\n",
    "\n",
    "#X_train_pca = pd.DataFrame(encoder.predict(X_train))\n",
    "#X_test_pca = pd.DataFrame(encoder.predict(X_test))"
   ]
  },
  {
   "cell_type": "code",
   "execution_count": 8,
   "metadata": {},
   "outputs": [
    {
     "data": {
      "text/plain": [
       "(373915, 23)"
      ]
     },
     "execution_count": 8,
     "metadata": {},
     "output_type": "execute_result"
    }
   ],
   "source": [
    "X_train_pca.shape"
   ]
  },
  {
   "attachments": {},
   "cell_type": "markdown",
   "metadata": {},
   "source": [
    "## Saving outlier model, PCA and scaler"
   ]
  },
  {
   "cell_type": "code",
   "execution_count": 9,
   "metadata": {},
   "outputs": [],
   "source": [
    "#dump(fitted_outlier, \"./results/IsolationForest.joblib\")\n",
    "#dump(fitted_scaler, \"./results/Scaler.joblib\")\n",
    "#dump(fitted_pca, \"./Final results and models/PCA_7.joblib\")"
   ]
  },
  {
   "attachments": {},
   "cell_type": "markdown",
   "metadata": {},
   "source": [
    "## Function to creat slidig window format"
   ]
  },
  {
   "cell_type": "code",
   "execution_count": 10,
   "metadata": {
    "execution": {
     "iopub.execute_input": "2023-04-03T16:39:16.810502Z",
     "iopub.status.busy": "2023-04-03T16:39:16.809842Z",
     "iopub.status.idle": "2023-04-03T16:39:17.052831Z",
     "shell.execute_reply": "2023-04-03T16:39:17.050909Z",
     "shell.execute_reply.started": "2023-04-03T16:19:46.097008Z"
    },
    "papermill": {
     "duration": 0.262321,
     "end_time": "2023-04-03T16:39:17.053013",
     "exception": false,
     "start_time": "2023-04-03T16:39:16.790692",
     "status": "completed"
    },
    "tags": []
   },
   "outputs": [],
   "source": [
    "# Reformat the training data into sequence samples\n",
    "# Source: https://machinelearningmastery.com/how-to-develop-convolutional-neural-network-models-for-time-series-forecasting/\n",
    "from numpy import array\n",
    "def split_sequences(sequences, n_steps):\n",
    "\tX, y = list(), list()\n",
    "\tfor i in range(len(sequences)):\n",
    "\t\t# find the end of this pattern\n",
    "\t\tend_ix = i + n_steps\n",
    "\t\t# check if we are beyond the dataset\n",
    "\t\tif end_ix > len(sequences):\n",
    "\t\t\tbreak\n",
    "\t\t# gather input and output parts of the pattern\n",
    "\t\tseq_x, seq_y = sequences[i:end_ix, :-1], sequences[end_ix-1, -1]\n",
    "\t\tX.append(seq_x)\n",
    "\t\ty.append(seq_y)\n",
    "\treturn array(X), array(y)"
   ]
  },
  {
   "attachments": {},
   "cell_type": "markdown",
   "metadata": {},
   "source": [
    "## Concate labels with data"
   ]
  },
  {
   "cell_type": "code",
   "execution_count": 11,
   "metadata": {
    "execution": {
     "iopub.execute_input": "2023-04-03T16:39:17.125645Z",
     "iopub.status.busy": "2023-04-03T16:39:17.124404Z",
     "iopub.status.idle": "2023-04-03T16:39:18.642602Z",
     "shell.execute_reply": "2023-04-03T16:39:18.643145Z",
     "shell.execute_reply.started": "2023-04-03T16:19:50.606708Z"
    },
    "papermill": {
     "duration": 1.556208,
     "end_time": "2023-04-03T16:39:18.643377",
     "exception": false,
     "start_time": "2023-04-03T16:39:17.087169",
     "status": "completed"
    },
    "tags": []
   },
   "outputs": [],
   "source": [
    "# Merge train and test X/y data to apply sequence transformation function\n",
    "y_train_array = np.array(y_train)\n",
    "train_set = np.c_[X_train_pca, y_train_array]\n",
    "\n",
    "y_test_array = np.array(y_test)\n",
    "test_set = np.c_[X_test_pca, y_test_array]"
   ]
  },
  {
   "attachments": {},
   "cell_type": "markdown",
   "metadata": {},
   "source": [
    "## You can change window size here"
   ]
  },
  {
   "cell_type": "code",
   "execution_count": 12,
   "metadata": {
    "execution": {
     "iopub.execute_input": "2023-04-03T16:39:18.682720Z",
     "iopub.status.busy": "2023-04-03T16:39:18.681900Z",
     "iopub.status.idle": "2023-04-03T16:39:18.684052Z",
     "shell.execute_reply": "2023-04-03T16:39:18.684440Z",
     "shell.execute_reply.started": "2023-04-03T16:20:01.807877Z"
    },
    "papermill": {
     "duration": 0.023774,
     "end_time": "2023-04-03T16:39:18.684585",
     "exception": false,
     "start_time": "2023-04-03T16:39:18.660811",
     "status": "completed"
    },
    "tags": []
   },
   "outputs": [
    {
     "name": "stdout",
     "output_type": "stream",
     "text": [
      "(373866, 50, 23) (373866,)\n",
      "(73819, 50, 23) (73819,)\n"
     ]
    }
   ],
   "source": [
    "# Apply sequence transformation using time step of 25 for both train and test data\n",
    "X_train_seq, y_train_seq = split_sequences(train_set, 50)\n",
    "print(X_train_seq.shape, y_train_seq.shape)\n",
    "\n",
    "X_test_seq, y_test_seq = split_sequences(test_set, 50)\n",
    "print(X_test_seq.shape, y_test_seq.shape)"
   ]
  },
  {
   "attachments": {},
   "cell_type": "markdown",
   "metadata": {
    "id": "MDHqehlVlhdX",
    "papermill": {
     "duration": 0.016822,
     "end_time": "2023-04-03T16:39:18.717681",
     "exception": false,
     "start_time": "2023-04-03T16:39:18.700859",
     "status": "completed"
    },
    "tags": []
   },
   "source": [
    "# Modeling Data Preparation\n",
    "\n",
    "Follow this ****[notebook](https://www.kaggle.com/gaurav2022/eda-dataviz-resample/)**** to see how I select time frame for model data preparation."
   ]
  },
  {
   "cell_type": "code",
   "execution_count": 13,
   "metadata": {
    "execution": {
     "iopub.execute_input": "2023-04-03T16:39:18.786587Z",
     "iopub.status.busy": "2023-04-03T16:39:18.785633Z",
     "iopub.status.idle": "2023-04-03T16:39:19.559873Z",
     "shell.execute_reply": "2023-04-03T16:39:19.559376Z",
     "shell.execute_reply.started": "2023-04-03T16:20:11.787907Z"
    },
    "id": "t9AuUuL_k__Y",
    "outputId": "c0560c27-24cc-43d8-bc5c-f26bdf6ddbfe",
    "papermill": {
     "duration": 0.826132,
     "end_time": "2023-04-03T16:39:19.560018",
     "exception": false,
     "start_time": "2023-04-03T16:39:18.733886",
     "status": "completed"
    },
    "tags": []
   },
   "outputs": [
    {
     "name": "stdout",
     "output_type": "stream",
     "text": [
      "(373866, 13)\n",
      "[[1. 0. 0. ... 0. 0. 0.]\n",
      " [1. 0. 0. ... 0. 0. 0.]\n",
      " [1. 0. 0. ... 0. 0. 0.]\n",
      " ...\n",
      " [0. 0. 0. ... 0. 0. 0.]\n",
      " [0. 0. 0. ... 0. 0. 0.]\n",
      " [0. 0. 0. ... 0. 0. 0.]]\n",
      "(73819, 13)\n",
      "[[1. 0. 0. ... 0. 0. 0.]\n",
      " [1. 0. 0. ... 0. 0. 0.]\n",
      " [1. 0. 0. ... 0. 0. 0.]\n",
      " ...\n",
      " [0. 0. 0. ... 0. 0. 0.]\n",
      " [0. 0. 0. ... 0. 0. 0.]\n",
      " [0. 0. 0. ... 0. 0. 0.]]\n"
     ]
    }
   ],
   "source": [
    "# Convert output variables to categorical for CNN\n",
    "from tensorflow.keras.utils import to_categorical\n",
    "y_train_seq = to_categorical(y_train_seq)\n",
    "print(y_train_seq.shape)\n",
    "print(y_train_seq)\n",
    "\n",
    "y_test_seq = to_categorical(y_test_seq)\n",
    "print(y_test_seq.shape)\n",
    "print(y_test_seq)"
   ]
  },
  {
   "cell_type": "code",
   "execution_count": 14,
   "metadata": {
    "execution": {
     "iopub.execute_input": "2023-04-03T16:39:19.608690Z",
     "iopub.status.busy": "2023-04-03T16:39:19.607920Z",
     "iopub.status.idle": "2023-04-03T16:39:19.611248Z",
     "shell.execute_reply": "2023-04-03T16:39:19.611674Z",
     "shell.execute_reply.started": "2023-04-03T16:20:15.502950Z"
    },
    "id": "jGMbjZupwnJP",
    "outputId": "bd484eab-03c6-4a02-ca28-33b4373709d4",
    "papermill": {
     "duration": 0.034158,
     "end_time": "2023-04-03T16:39:19.611814",
     "exception": false,
     "start_time": "2023-04-03T16:39:19.577656",
     "status": "completed"
    },
    "tags": []
   },
   "outputs": [
    {
     "name": "stdout",
     "output_type": "stream",
     "text": [
      "50 23 13\n"
     ]
    }
   ],
   "source": [
    "# Produce variables for CNN input/output shape\n",
    "n_timesteps, n_features, n_outputs = X_train_seq.shape[1], X_train_seq.shape[2], y_train_seq.shape[1]\n",
    "print(n_timesteps, n_features, n_outputs)"
   ]
  },
  {
   "attachments": {},
   "cell_type": "markdown",
   "metadata": {},
   "source": [
    "## Model1: CNN_LSTM"
   ]
  },
  {
   "cell_type": "code",
   "execution_count": 15,
   "metadata": {},
   "outputs": [
    {
     "name": "stdout",
     "output_type": "stream",
     "text": [
      "Model: \"sequential\"\n",
      "_________________________________________________________________\n",
      " Layer (type)                Output Shape              Param #   \n",
      "=================================================================\n",
      " conv1d (Conv1D)             (None, 50, 32)            2240      \n",
      "                                                                 \n",
      " batch_normalization (BatchN  (None, 50, 32)           128       \n",
      " ormalization)                                                   \n",
      "                                                                 \n",
      " re_lu (ReLU)                (None, 50, 32)            0         \n",
      "                                                                 \n",
      " conv1d_1 (Conv1D)           (None, 50, 64)            6208      \n",
      "                                                                 \n",
      " batch_normalization_1 (Batc  (None, 50, 64)           256       \n",
      " hNormalization)                                                 \n",
      "                                                                 \n",
      " re_lu_1 (ReLU)              (None, 50, 64)            0         \n",
      "                                                                 \n",
      " max_pooling1d (MaxPooling1D  (None, 25, 64)           0         \n",
      " )                                                               \n",
      "                                                                 \n",
      " conv1d_2 (Conv1D)           (None, 25, 32)            6176      \n",
      "                                                                 \n",
      " batch_normalization_2 (Batc  (None, 25, 32)           128       \n",
      " hNormalization)                                                 \n",
      "                                                                 \n",
      " re_lu_2 (ReLU)              (None, 25, 32)            0         \n",
      "                                                                 \n",
      " max_pooling1d_1 (MaxPooling  (None, 12, 32)           0         \n",
      " 1D)                                                             \n",
      "                                                                 \n",
      " lstm (LSTM)                 (None, 64)                24832     \n",
      "                                                                 \n",
      " dense (Dense)               (None, 128)               8320      \n",
      "                                                                 \n",
      " dense_1 (Dense)             (None, 13)                1677      \n",
      "                                                                 \n",
      "=================================================================\n",
      "Total params: 49,965\n",
      "Trainable params: 49,709\n",
      "Non-trainable params: 256\n",
      "_________________________________________________________________\n"
     ]
    }
   ],
   "source": [
    "model = keras.Sequential()\n",
    "model.add(layers.Input(shape=[50,23]))\n",
    "model.add(layers.Conv1D(filters=32, kernel_size=3, padding=\"same\"))\n",
    "model.add(layers.BatchNormalization())\n",
    "model.add(layers.ReLU())\n",
    "model.add(layers.Conv1D(filters=64, kernel_size=3, padding=\"same\"))\n",
    "model.add(layers.BatchNormalization())\n",
    "model.add(layers.ReLU())\n",
    "model.add(layers.MaxPool1D(2))\n",
    "model.add(layers.Conv1D(filters=32, kernel_size=3, padding=\"same\"))\n",
    "model.add(layers.BatchNormalization())\n",
    "model.add(layers.ReLU())\n",
    "model.add(layers.MaxPool1D(2))\n",
    "model.add(layers.LSTM(64))\n",
    "model.add(layers.Dense(units=128, activation='relu'))\n",
    "model.add(layers.Dense(13, activation='softmax'))\n",
    "model.summary()"
   ]
  },
  {
   "cell_type": "code",
   "execution_count": 16,
   "metadata": {},
   "outputs": [
    {
     "name": "stdout",
     "output_type": "stream",
     "text": [
      "('You must install pydot (`pip install pydot`) and install graphviz (see instructions at https://graphviz.gitlab.io/download/) ', 'for plot_model/model_to_dot to work.')\n"
     ]
    }
   ],
   "source": [
    "tf.keras.utils.plot_model(model, to_file=\"model.png\", show_shapes=True)"
   ]
  },
  {
   "attachments": {},
   "cell_type": "markdown",
   "metadata": {},
   "source": [
    "## Train Model1: CNN_LSTM"
   ]
  },
  {
   "cell_type": "code",
   "execution_count": 17,
   "metadata": {},
   "outputs": [],
   "source": [
    "from keras import backend as K\n",
    "\n",
    "def recall_m(y_true, y_pred):\n",
    "    true_positives = K.sum(K.round(K.clip(y_true * y_pred, 0, 1)))\n",
    "    possible_positives = K.sum(K.round(K.clip(y_true, 0, 1)))\n",
    "    recall = true_positives / (possible_positives + K.epsilon())\n",
    "    return recall\n",
    "\n",
    "def precision_m(y_true, y_pred):\n",
    "    true_positives = K.sum(K.round(K.clip(y_true * y_pred, 0, 1)))\n",
    "    predicted_positives = K.sum(K.round(K.clip(y_pred, 0, 1)))\n",
    "    precision = true_positives / (predicted_positives + K.epsilon())\n",
    "    return precision\n",
    "\n",
    "def f1_m(y_true, y_pred):\n",
    "    precision = precision_m(y_true, y_pred)\n",
    "    recall = recall_m(y_true, y_pred)\n",
    "    return 2*((precision*recall)/(precision+recall+K.epsilon()))"
   ]
  },
  {
   "cell_type": "code",
   "execution_count": 24,
   "metadata": {},
   "outputs": [
    {
     "name": "stdout",
     "output_type": "stream",
     "text": [
      "Epoch 1/50\n",
      "11684/11684 [==============================] - 117s 10ms/step - loss: 0.0024 - accuracy: 0.9994 - f1_m: 0.9995 - precision_m: 0.9995 - recall_m: 0.9994 - val_loss: 0.0029 - val_accuracy: 0.9997 - val_f1_m: 0.9997 - val_precision_m: 0.9997 - val_recall_m: 0.9997\n",
      "Epoch 2/50\n",
      "11684/11684 [==============================] - 113s 10ms/step - loss: 0.0021 - accuracy: 0.9995 - f1_m: 0.9995 - precision_m: 0.9995 - recall_m: 0.9995 - val_loss: 0.0034 - val_accuracy: 0.9997 - val_f1_m: 0.9997 - val_precision_m: 0.9997 - val_recall_m: 0.9997\n",
      "Epoch 3/50\n",
      "11684/11684 [==============================] - 114s 10ms/step - loss: 0.0016 - accuracy: 0.9995 - f1_m: 0.9995 - precision_m: 0.9995 - recall_m: 0.9995 - val_loss: 0.0083 - val_accuracy: 0.9995 - val_f1_m: 0.9995 - val_precision_m: 0.9995 - val_recall_m: 0.9995\n",
      "Epoch 4/50\n",
      "11684/11684 [==============================] - 114s 10ms/step - loss: 0.0020 - accuracy: 0.9996 - f1_m: 0.9996 - precision_m: 0.9996 - recall_m: 0.9995 - val_loss: 0.0102 - val_accuracy: 0.9995 - val_f1_m: 0.9995 - val_precision_m: 0.9995 - val_recall_m: 0.9995\n",
      "Epoch 5/50\n",
      "11684/11684 [==============================] - 114s 10ms/step - loss: 0.0019 - accuracy: 0.9996 - f1_m: 0.9996 - precision_m: 0.9996 - recall_m: 0.9996 - val_loss: 0.0082 - val_accuracy: 0.9996 - val_f1_m: 0.9996 - val_precision_m: 0.9996 - val_recall_m: 0.9996\n",
      "Epoch 6/50\n",
      "11684/11684 [==============================] - 114s 10ms/step - loss: 0.0019 - accuracy: 0.9995 - f1_m: 0.9995 - precision_m: 0.9995 - recall_m: 0.9995 - val_loss: 0.0089 - val_accuracy: 0.9996 - val_f1_m: 0.9996 - val_precision_m: 0.9996 - val_recall_m: 0.9996\n",
      "Epoch 7/50\n",
      "11684/11684 [==============================] - 114s 10ms/step - loss: 0.0017 - accuracy: 0.9995 - f1_m: 0.9995 - precision_m: 0.9996 - recall_m: 0.9995 - val_loss: 0.0070 - val_accuracy: 0.9994 - val_f1_m: 0.9994 - val_precision_m: 0.9994 - val_recall_m: 0.9994\n",
      "Epoch 8/50\n",
      "11684/11684 [==============================] - 114s 10ms/step - loss: 0.0017 - accuracy: 0.9996 - f1_m: 0.9996 - precision_m: 0.9996 - recall_m: 0.9996 - val_loss: 0.0073 - val_accuracy: 0.9996 - val_f1_m: 0.9996 - val_precision_m: 0.9996 - val_recall_m: 0.9996\n",
      "Epoch 9/50\n",
      "11684/11684 [==============================] - 114s 10ms/step - loss: 0.0018 - accuracy: 0.9996 - f1_m: 0.9996 - precision_m: 0.9996 - recall_m: 0.9996 - val_loss: 0.0100 - val_accuracy: 0.9996 - val_f1_m: 0.9996 - val_precision_m: 0.9996 - val_recall_m: 0.9996\n",
      "Epoch 10/50\n",
      "11684/11684 [==============================] - 114s 10ms/step - loss: 0.0016 - accuracy: 0.9997 - f1_m: 0.9997 - precision_m: 0.9997 - recall_m: 0.9997 - val_loss: 0.0083 - val_accuracy: 0.9995 - val_f1_m: 0.9995 - val_precision_m: 0.9996 - val_recall_m: 0.9995\n",
      "Epoch 11/50\n",
      "11684/11684 [==============================] - 114s 10ms/step - loss: 0.0021 - accuracy: 0.9996 - f1_m: 0.9996 - precision_m: 0.9996 - recall_m: 0.9996 - val_loss: 0.0134 - val_accuracy: 0.9996 - val_f1_m: 0.9996 - val_precision_m: 0.9996 - val_recall_m: 0.9996\n",
      "Epoch 00011: early stopping\n"
     ]
    }
   ],
   "source": [
    "callbacks = [keras.callbacks.ModelCheckpoint(\"CNN_LSTM_50.h5\", save_best_only=True, monitor=\"val_loss\"),\n",
    "             keras.callbacks.EarlyStopping(monitor=\"val_loss\", patience=10, verbose=1)]\n",
    "\n",
    "#model.compile(optimizer=\"adam\", loss=\"sparse_categorical_crossentropy\", metrics=[\"sparse_categorical_accuracy\"],)\n",
    "model.compile(optimizer='adam', metrics=['accuracy',f1_m,precision_m, recall_m], loss='categorical_crossentropy')\n",
    "\n",
    "model_history = model.fit(X_train_seq, y_train_seq, epochs= 50, validation_data=(X_test_seq,y_test_seq), callbacks=callbacks)"
   ]
  },
  {
   "attachments": {},
   "cell_type": "markdown",
   "metadata": {},
   "source": [
    "## Ploting results of Model1"
   ]
  },
  {
   "cell_type": "code",
   "execution_count": 25,
   "metadata": {},
   "outputs": [
    {
     "data": {
      "image/png": "[encoded data removed]",
      "text/plain": [
       "<Figure size 1152x576 with 2 Axes>"
      ]
     },
     "metadata": {
      "needs_background": "light"
     },
     "output_type": "display_data"
    }
   ],
   "source": [
    "train_loss = model_history.history['loss']\n",
    "val_loss = model_history.history['val_loss']\n",
    "train_accuracy = model_history.history['accuracy']\n",
    "val_accuracy = model_history.history['val_accuracy']\n",
    "\n",
    "fig, ax = plt.subplots(1,2, figsize=(16, 8))\n",
    "\n",
    "# Adding titles to subplots\n",
    "ax[0].set_title('Training and Validation Loss',  fontsize=22)\n",
    "ax[0].plot(train_loss, 'r', label='Training loss')\n",
    "ax[0].plot(val_loss, 'b', label='Validation loss')\n",
    "\n",
    "ax[0].set_xlabel('Epoch', fontsize=14)\n",
    "ax[0].set_ylabel('Loss Value', fontsize=14)\n",
    "ax[0].legend()\n",
    "\n",
    "ax[1].set_title('Training and Validation Accuracy',  fontsize=22)\n",
    "ax[1].plot(train_accuracy, 'r', label='Training Accuracy')\n",
    "ax[1].plot(val_accuracy, 'b', label='Validation Accuracy')\n",
    "\n",
    "ax[1].set_xlabel('Epoch', fontsize=14)\n",
    "ax[1].set_ylabel('Loss Value', fontsize=14)\n",
    "ax[1].legend()\n",
    "\n",
    "# Adding a title to the figure\n",
    "fig.suptitle('CNN_LSTM_AE(7)_25', fontsize=24)\n",
    "\n",
    "#fig.tight_layout()\n",
    "plt.savefig('CNN_LSTM_AE(7)_25.jpeg', dpi=400)\n",
    "plt.show()"
   ]
  },
  {
   "cell_type": "markdown",
   "metadata": {},
   "source": [
    "## Evaluation on Test and Train data"
   ]
  },
  {
   "cell_type": "code",
   "execution_count": 22,
   "metadata": {},
   "outputs": [
    {
     "data": {
      "text/plain": [
       "' \\n#model = keras.models.load_model(\\'./CNN_LSTM.h5\\')\\ntrain_loss, train_acc = model.evaluate(X_train_seq,y_train_seq)\\ntest_loss, test_acc = model.evaluate(X_test_seq,y_test_seq)\\n\\nprint(\"Train accuracy\", round(train_acc*100, 2),\\'%\\')\\nprint(\"Train loss\", train_loss)\\nprint(\"Test accuracy\", round(test_acc*100, 2),\\'%\\')\\nprint(\"Test loss\", test_loss)\\n\\npred = model.predict(X_test_seq)\\npred = np.argmax(pred, axis = 1)\\npred = pred.reshape(-1,1)\\n'"
      ]
     },
     "execution_count": 22,
     "metadata": {},
     "output_type": "execute_result"
    }
   ],
   "source": [
    "\"\"\" \n",
    "#model = keras.models.load_model('./CNN_LSTM.h5')\n",
    "train_loss, train_acc = model.evaluate(X_train_seq,y_train_seq)\n",
    "test_loss, test_acc = model.evaluate(X_test_seq,y_test_seq)\n",
    "\n",
    "print(\"Train accuracy\", round(train_acc*100, 2),'%')\n",
    "print(\"Train loss\", train_loss)\n",
    "print(\"Test accuracy\", round(test_acc*100, 2),'%')\n",
    "print(\"Test loss\", test_loss)\n",
    "\n",
    "pred = model.predict(X_test_seq)\n",
    "pred = np.argmax(pred, axis = 1)\n",
    "pred = pred.reshape(-1,1)\n",
    "\"\"\""
   ]
  },
  {
   "cell_type": "code",
   "execution_count": null,
   "metadata": {},
   "outputs": [],
   "source": [
    "\n"
   ]
  },
  {
   "attachments": {},
   "cell_type": "markdown",
   "metadata": {},
   "source": [
    "## Converting Model1 to tflite"
   ]
  },
  {
   "cell_type": "code",
   "execution_count": 1,
   "metadata": {},
   "outputs": [
    {
     "ename": "NameError",
     "evalue": "name 'tf' is not defined",
     "output_type": "error",
     "traceback": [
      "\u001b[1;31m---------------------------------------------------------------------------\u001b[0m",
      "\u001b[1;31mNameError\u001b[0m                                 Traceback (most recent call last)",
      "\u001b[1;32m~\\AppData\\Local\\Temp/ipykernel_10276/145660360.py\u001b[0m in \u001b[0;36m<module>\u001b[1;34m\u001b[0m\n\u001b[1;32m----> 1\u001b[1;33m \u001b[0mconverter\u001b[0m \u001b[1;33m=\u001b[0m \u001b[0mtf\u001b[0m\u001b[1;33m.\u001b[0m\u001b[0mlite\u001b[0m\u001b[1;33m.\u001b[0m\u001b[0mTFLiteConverter\u001b[0m\u001b[1;33m.\u001b[0m\u001b[0mfrom_keras_model\u001b[0m\u001b[1;33m(\u001b[0m\u001b[0mmodel\u001b[0m\u001b[1;33m)\u001b[0m\u001b[1;33m\u001b[0m\u001b[1;33m\u001b[0m\u001b[0m\n\u001b[0m\u001b[0;32m      2\u001b[0m \u001b[1;33m\u001b[0m\u001b[0m\n\u001b[0;32m      3\u001b[0m \u001b[1;33m\u001b[0m\u001b[0m\n\u001b[0;32m      4\u001b[0m converter.target_spec.supported_ops = [\n\u001b[0;32m      5\u001b[0m  \u001b[0mtf\u001b[0m\u001b[1;33m.\u001b[0m\u001b[0mlite\u001b[0m\u001b[1;33m.\u001b[0m\u001b[0mOptimize\u001b[0m\u001b[1;33m.\u001b[0m\u001b[0mDEFAULT\u001b[0m\u001b[1;33m,\u001b[0m\u001b[1;33m\u001b[0m\u001b[1;33m\u001b[0m\u001b[0m\n",
      "\u001b[1;31mNameError\u001b[0m: name 'tf' is not defined"
     ]
    }
   ],
   "source": [
    "converter = tf.lite.TFLiteConverter.from_keras_model(model)\n",
    "\n",
    "\n",
    "converter.target_spec.supported_ops = [\n",
    " tf.lite.Optimize.DEFAULT,\n",
    "  tf.lite.OpsSet.TFLITE_BUILTINS, # enable TensorFlow Lite ops.\n",
    "  tf.lite.OpsSet.SELECT_TF_OPS # enable TensorFlow ops.\n",
    "]\n",
    "\n",
    "tflite_quant_model = converter.convert()"
   ]
  },
  {
   "cell_type": "code",
   "execution_count": null,
   "metadata": {
    "execution": {
     "iopub.execute_input": "2023-04-03T16:39:19.651251Z",
     "iopub.status.busy": "2023-04-03T16:39:19.650730Z",
     "iopub.status.idle": "2023-04-03T16:39:19.654438Z",
     "shell.execute_reply": "2023-04-03T16:39:19.653904Z",
     "shell.execute_reply.started": "2023-04-03T16:25:40.750475Z"
    },
    "id": "If76z96uwnEf",
    "papermill": {
     "duration": 0.025733,
     "end_time": "2023-04-03T16:39:19.654555",
     "exception": false,
     "start_time": "2023-04-03T16:39:19.628822",
     "status": "completed"
    },
    "tags": []
   },
   "outputs": [],
   "source": [
    "with open('model_CNN_LSTM_50.tflite', 'wb') as f:\n",
    "  f.write(tflite_quant_model)"
   ]
  },
  {
   "attachments": {},
   "cell_type": "markdown",
   "metadata": {},
   "source": [
    "## To Do: Testing other models including CNN, LSTM, FFNN"
   ]
  },
  {
   "cell_type": "code",
   "execution_count": null,
   "metadata": {},
   "outputs": [],
   "source": [
    "\"\"\"\n",
    "from keras.models import Sequential\n",
    "from keras.layers import Dense, Flatten, Dropout\n",
    "from keras.layers.convolutional import Conv1D, MaxPooling1D\n",
    "import tensorflow as tf\n",
    "from tensorflow import keras\n",
    "# Sequential model type\n",
    "model = Sequential()\n",
    "# 2 1D CNN layers for learning features from the time series samples\n",
    "model.add(Conv1D(filters=64, kernel_size=3, input_shape=(25,16), padding='same'))\n",
    "model.add(Dropout(0.5))\n",
    "model.add(layers.BatchNormalization())\n",
    "model.add(layers.ReLU())\n",
    "model.add(Conv1D(filters=64, kernel_size=3, padding='same'))\n",
    "model.add(Dropout(0.5))\n",
    "model.add(layers.BatchNormalization())\n",
    "model.add(layers.ReLU())\n",
    "# Pooling layer - reduces learned feature sizes to most essential elements\n",
    "model.add(MaxPooling1D(pool_size=2))\n",
    "# Flvatten learned features to ector\n",
    "model.add(Flatten())\n",
    "# Fully connected dense layer - interpret features\n",
    "model.add(Dense(128, activation='relu'))\n",
    "# Output layer using softmax\n",
    "model.add(Dense(13, activation='softmax'))\n",
    "model.summary()\n",
    "\"\"\""
   ]
  },
  {
   "cell_type": "code",
   "execution_count": null,
   "metadata": {},
   "outputs": [],
   "source": [
    "\"\"\"\n",
    "model = keras.Sequential()\n",
    "model.add(layers.Input(shape=[25,16]))\n",
    "model.add(layers.Conv1D(filters=32, kernel_size=3, padding=\"same\"))\n",
    "model.add(layers.BatchNormalization())\n",
    "model.add(layers.ReLU())\n",
    "model.add(layers.MaxPool1D(2))\n",
    "model.add(layers.Conv1D(filters=64, kernel_size=3, padding=\"same\"))\n",
    "model.add(layers.BatchNormalization())\n",
    "model.add(layers.ReLU())\n",
    "model.add(layers.MaxPool1D(2))\n",
    "model.add(layers.Conv1D(filters=32, kernel_size=3, padding=\"same\"))\n",
    "model.add(layers.BatchNormalization())\n",
    "model.add(layers.ReLU())\n",
    "model.add(layers.MaxPool1D(2))\n",
    "model.add(layers.Flatten())\n",
    "model.add(layers.Dense(units=128, activation='relu'))\n",
    "model.add(layers.Dense(13, activation='softmax'))\n",
    "model.summary()\n",
    "\"\"\""
   ]
  },
  {
   "cell_type": "code",
   "execution_count": null,
   "metadata": {},
   "outputs": [],
   "source": []
  }
 ],
 "metadata": {
  "kernelspec": {
   "display_name": "Python 3",
   "language": "python",
   "name": "python3"
  },
  "language_info": {
   "codemirror_mode": {
    "name": "ipython",
    "version": 3
   },
   "file_extension": ".py",
   "mimetype": "text/x-python",
   "name": "python",
   "nbconvert_exporter": "python",
   "pygments_lexer": "ipython3",
   "version": "3.8.6"
  },
  "papermill": {
   "default_parameters": {},
   "duration": 42.268748,
   "end_time": "2023-04-03T16:39:45.029594",
   "environment_variables": {},
   "exception": null,
   "input_path": "__notebook__.ipynb",
   "output_path": "__notebook__.ipynb",
   "parameters": {},
   "start_time": "2023-04-03T16:39:02.760846",
   "version": "2.2.2"
  }
 },
 "nbformat": 4,
 "nbformat_minor": 4
}
